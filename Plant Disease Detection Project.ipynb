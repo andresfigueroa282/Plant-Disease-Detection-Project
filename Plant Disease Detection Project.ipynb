{
 "cells": [
  {
   "cell_type": "markdown",
   "id": "9ffdffd1",
   "metadata": {},
   "source": [
    "#### Author\n",
    "**Name:** Andres  \n",
    "**Email:** andresfigueroa@brandeis.edu\n",
    "\n",
    "#### Project Description:\n",
    "The goal of this project it to build a model that can identify whether a plant leaf is healthy or diseased, and if diseased, classify the type (rust, blight, mildew, etc).\n",
    "\n",
    "---\n",
    "\n",
    "#### Importing Libraries"
   ]
  },
  {
   "cell_type": "code",
   "execution_count": null,
   "id": "cd1afcbf",
   "metadata": {
    "vscode": {
     "languageId": "plaintext"
    }
   },
   "outputs": [],
   "source": []
  },
  {
   "cell_type": "markdown",
   "id": "bf78b9ad",
   "metadata": {},
   "source": [
    "#### Loading and Exploring the Dataset\n",
    "\n",
    "---"
   ]
  },
  {
   "cell_type": "markdown",
   "id": "6dd3fc25",
   "metadata": {},
   "source": [
    "#### Defining Our ML Problem\n",
    "\n",
    "---"
   ]
  },
  {
   "cell_type": "markdown",
   "id": "50429d65",
   "metadata": {},
   "source": [
    "#### Understanding Our Data\n",
    "\n",
    "---"
   ]
  },
  {
   "cell_type": "markdown",
   "id": "b9d26af2",
   "metadata": {},
   "source": [
    "#### Defining The Project Plan\n",
    "\n",
    "---"
   ]
  },
  {
   "cell_type": "markdown",
   "id": "77567405",
   "metadata": {},
   "source": [
    "#### Implement Our Project Plan\n",
    "\n",
    "---"
   ]
  },
  {
   "cell_type": "markdown",
   "id": "071b61a6",
   "metadata": {},
   "source": [
    "#### Conclusion\n",
    "\n",
    "---"
   ]
  }
 ],
 "metadata": {
  "language_info": {
   "name": "python"
  }
 },
 "nbformat": 4,
 "nbformat_minor": 5
}
